{
 "cells": [
  {
   "cell_type": "code",
   "execution_count": 35,
   "id": "7edd3eb5",
   "metadata": {},
   "outputs": [
    {
     "name": "stdout",
     "output_type": "stream",
     "text": [
      "Weights and bias after 100 iterations are\n",
      "W:[8.83189713 8.83126623]\n",
      "B:-13.416567258592307\n",
      "Predictions for the outputs are\n",
      " [1.4902468973117612e-06, 0.01009767551978533, 0.010103983772750043, 0.985889096988805]\n"
     ]
    }
   ],
   "source": [
    "import numpy as np\n",
    "x = np.array([[0,0],\n",
    "     [0,1],\n",
    "     [1,0],\n",
    "     [1,1]])\n",
    "y = [0,0,0,1]\n",
    "\n",
    "w = [0.9,0.9]\n",
    "b = 0\n",
    "lr = 0.05\n",
    "threshold = 0.5\n",
    "\n",
    "def linear_output(w,b,x):\n",
    "    output = 0\n",
    "    for i in range(len(x)):\n",
    "        output += x[i]*w[i]\n",
    "    return output + b\n",
    "\n",
    "def sigmoid(x):\n",
    "    return 1/(1+np.exp(-x))\n",
    "\n",
    "def forward_pass(x,y,w,b):\n",
    "    for i in range(10000):\n",
    "        for j in range(len(x)):\n",
    "            out = linear_output(w,b,x[j])\n",
    "            y_pred = sigmoid(out)\n",
    "\n",
    "            update = lr * (y[j] - y_pred)\n",
    "            w += update * x[j]\n",
    "            b += update\n",
    "    return w,b\n",
    "w_new, b_new = forward_pass(x,y,w,b)\n",
    "print(f\"Weights and bias after 100 iterations are\\nW:{w_new}\\nB:{b_new}\")\n",
    "prediction = []\n",
    "for i in range(len(x)):\n",
    "    lo = linear_output(w_new,b_new,x[i])\n",
    "    y_pred = sigmoid(lo)\n",
    "\n",
    "    prediction.append(y_pred)\n",
    "    \n",
    "print(\"Predictions for the outputs are\\n\",prediction)"
   ]
  },
  {
   "cell_type": "code",
   "execution_count": null,
   "id": "6177eb73",
   "metadata": {},
   "outputs": [],
   "source": []
  },
  {
   "cell_type": "code",
   "execution_count": null,
   "id": "5abc53af",
   "metadata": {},
   "outputs": [],
   "source": []
  }
 ],
 "metadata": {
  "kernelspec": {
   "display_name": "Python 3 (ipykernel)",
   "language": "python",
   "name": "python3"
  },
  "language_info": {
   "codemirror_mode": {
    "name": "ipython",
    "version": 3
   },
   "file_extension": ".py",
   "mimetype": "text/x-python",
   "name": "python",
   "nbconvert_exporter": "python",
   "pygments_lexer": "ipython3",
   "version": "3.9.13"
  }
 },
 "nbformat": 4,
 "nbformat_minor": 5
}
