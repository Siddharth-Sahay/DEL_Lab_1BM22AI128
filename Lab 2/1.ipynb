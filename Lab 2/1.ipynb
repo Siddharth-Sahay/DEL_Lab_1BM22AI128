{
 "cells": [
  {
   "cell_type": "code",
   "execution_count": 21,
   "id": "0560b5df",
   "metadata": {},
   "outputs": [
    {
     "name": "stdout",
     "output_type": "stream",
     "text": [
      "Weights and bias after 100 iterations are\n",
      "W:[0.75 0.75]\n",
      "B:-0.3\n",
      "Predictions for the outputs are\n",
      " [0, 0, 0, 1]\n"
     ]
    }
   ],
   "source": [
    "import numpy as np\n",
    "x = np.array([[0,0],\n",
    "     [0,1],\n",
    "     [1,0],\n",
    "     [1,1]])\n",
    "y = [0,0,0,1]\n",
    "\n",
    "w = [0.9,0.9]\n",
    "b = 0\n",
    "lr = 0.05\n",
    "threshold = 0.5\n",
    "\n",
    "def linear_output(w,b,x):\n",
    "    output = 0\n",
    "    for i in range(len(x)):\n",
    "        output += x[i]*w[i]\n",
    "    return output + b\n",
    "\n",
    "def forward_pass(x,y,w,b):\n",
    "    for i in range(100):\n",
    "        for j in range(len(x)):\n",
    "            out = linear_output(w,b,x[j])\n",
    "            if out > threshold:\n",
    "                y_pred = 1\n",
    "            else:\n",
    "                y_pred = 0\n",
    "            \n",
    "            update = lr * (y[j] - y_pred)\n",
    "            w += update * x[j]\n",
    "            b += update\n",
    "    return w,b\n",
    "w_new, b_new = forward_pass(x,y,w,b)\n",
    "print(f\"Weights and bias after 100 iterations are\\nW:{w_new}\\nB:{b_new}\")\n",
    "prediction = []\n",
    "for i in range(len(x)):\n",
    "    lo = linear_output(w_new,b_new,x[i])\n",
    "    if lo > threshold:\n",
    "        y_pred = 1\n",
    "    else:\n",
    "        y_pred = 0\n",
    "    prediction.append(y_pred)\n",
    "    \n",
    "print(\"Predictions for the outputs are\\n\",prediction)"
   ]
  }
 ],
 "metadata": {
  "kernelspec": {
   "display_name": "Python 3 (ipykernel)",
   "language": "python",
   "name": "python3"
  },
  "language_info": {
   "codemirror_mode": {
    "name": "ipython",
    "version": 3
   },
   "file_extension": ".py",
   "mimetype": "text/x-python",
   "name": "python",
   "nbconvert_exporter": "python",
   "pygments_lexer": "ipython3",
   "version": "3.9.13"
  }
 },
 "nbformat": 4,
 "nbformat_minor": 5
}
