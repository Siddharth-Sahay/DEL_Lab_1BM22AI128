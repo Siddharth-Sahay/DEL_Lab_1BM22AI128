{
 "cells": [
  {
   "cell_type": "code",
   "execution_count": 45,
   "id": "b8cf5e83",
   "metadata": {},
   "outputs": [
    {
     "name": "stdout",
     "output_type": "stream",
     "text": [
      "Weights and bias after 100 iterations are\n",
      "W:[ 16.65766512   7.67247294  -1.31271923 -10.29791141]\n",
      "B:-8.98519217937357\n",
      "Predictions for the outputs are\n",
      " [2.492949142451502e-10, 1.4411835583065253e-07, 8.330846301497269e-05, 0.04595170259502571, 0.9653311734690607, 0.9999378802228408, 0.9999998925389997, 0.9999999998141147]\n"
     ]
    }
   ],
   "source": [
    "import numpy as np\n",
    "import pandas as pd\n",
    "\n",
    "df = pd.read_csv(\"C:/Users/Admin/Downloads/test_dataset.csv\")\n",
    "y = df.pop(\"label\")\n",
    "\n",
    "x = df.to_numpy()\n",
    "y.to_numpy()\n",
    "\n",
    "\n",
    "w = [0.9,0.9,0.9,0.9]\n",
    "b = 0\n",
    "lr = 0.05\n",
    "threshold = 0.5\n",
    "\n",
    "def linear_output(w,b,x):\n",
    "    output = 0\n",
    "    for i in range(len(x)):\n",
    "        output += x[i]*w[i]\n",
    "    return output + b\n",
    "\n",
    "def sigmoid(x):\n",
    "    return 1/(1+np.exp(-x))\n",
    "\n",
    "def forward_pass(x,y,w,b):\n",
    "    for i in range(10000):\n",
    "        for j in range(len(x)):\n",
    "            out = linear_output(w,b,x[j])\n",
    "            y_pred = sigmoid(out)\n",
    "\n",
    "            update = lr * (y[j] - y_pred)\n",
    "            w += update * x[j]\n",
    "            b += update\n",
    "    return w,b\n",
    "w_new, b_new = forward_pass(x,y,w,b)\n",
    "print(f\"Weights and bias after 100 iterations are\\nW:{w_new}\\nB:{b_new}\")\n",
    "prediction = []\n",
    "for i in range(len(x)):\n",
    "    lo = linear_output(w_new,b_new,x[i])\n",
    "    y_pred = sigmoid(lo)\n",
    "\n",
    "    prediction.append(y_pred)\n",
    "    \n",
    "print(\"Predictions for the outputs are\\n\",prediction)"
   ]
  },
  {
   "cell_type": "code",
   "execution_count": null,
   "id": "4b617d9b",
   "metadata": {},
   "outputs": [],
   "source": []
  },
  {
   "cell_type": "code",
   "execution_count": null,
   "id": "186c13cf",
   "metadata": {},
   "outputs": [],
   "source": []
  }
 ],
 "metadata": {
  "kernelspec": {
   "display_name": "Python 3 (ipykernel)",
   "language": "python",
   "name": "python3"
  },
  "language_info": {
   "codemirror_mode": {
    "name": "ipython",
    "version": 3
   },
   "file_extension": ".py",
   "mimetype": "text/x-python",
   "name": "python",
   "nbconvert_exporter": "python",
   "pygments_lexer": "ipython3",
   "version": "3.9.13"
  }
 },
 "nbformat": 4,
 "nbformat_minor": 5
}
